{
 "cells": [
  {
   "cell_type": "code",
   "execution_count": null,
   "id": "b21f55d1",
   "metadata": {},
   "outputs": [
    {
     "ename": "",
     "evalue": "",
     "output_type": "error",
     "traceback": [
      "\u001b[1;31mRunning cells with '.venv (Python 3.6.15)' requires the ipykernel package.\n",
      "\u001b[1;31mInstall 'ipykernel' into the Python environment. \n",
      "\u001b[1;31mCommand: '/home/mariajinxuegarcia/DSB/cell_learning/ForceLearning/.venv/bin/python -m pip install ipykernel -U --force-reinstall'"
     ]
    }
   ],
   "source": [
    "import numpy as np\n",
    "import matplotlib.pyplot as plt\n",
    "\n",
    "# Parámetros de la red\n",
    "N = 1000           # Número de neuronas\n",
    "p = 0.1            # Sparsity de la red\n",
    "g = 1.5            # Ganancia de la red (caos si >1)\n",
    "dt = 0.1           # Paso de tiempo\n",
    "simtime = 1000     # Duración de la simulación\n",
    "learn_every = 2    # Frecuencia de actualización FORCE\n",
    "\n",
    "# Inicialización de la red\n",
    "scale = 1.0/np.sqrt(p*N)\n",
    "J = np.random.randn(N, N) * g * scale\n",
    "mask = np.random.rand(N, N) < p\n",
    "J = J * mask\n",
    "\n",
    "# Inicialización de los pesos de salida\n",
    "wo = np.zeros(N)\n",
    "wf = np.random.randn(N) / np.sqrt(N)\n",
    "\n",
    "# Inicialización de variables\n",
    "x = 0.5 * np.random.randn(N)\n",
    "r = np.tanh(x)\n",
    "z = 0.0\n",
    "\n",
    "# Parámetros FORCE\n",
    "alpha = 1.0\n",
    "P = (1.0/alpha) * np.eye(N)\n",
    "\n",
    "# Señal objetivo\n",
    "t = np.arange(0, simtime*dt, dt)\n",
    "ft = np.sin(1.2 * t)  # Por ejemplo, una onda seno\n",
    "\n",
    "# Para guardar resultados\n",
    "z_out = np.zeros_like(t)\n",
    "\n",
    "for i in range(len(t)):\n",
    "    # Dinámica de la red\n",
    "    x = (1.0 - dt) * x + J @ (r * dt) + wf * z * dt\n",
    "    r = np.tanh(x)\n",
    "    z = wo @ r\n",
    "\n",
    "    # FORCE learning\n",
    "    if i % learn_every == 0:\n",
    "        err = z - ft[i]\n",
    "        Pr = P @ r\n",
    "        k = Pr / (1.0 + r.T @ Pr)\n",
    "        wo = wo - k * err\n",
    "        P = P - np.outer(k, Pr)\n",
    "\n",
    "    z_out[i] = z\n",
    "\n",
    "# Graficar resultado\n",
    "plt.plot(t, ft, label='Target')\n",
    "plt.plot(t, z_out, label='FORCE Output')\n",
    "plt.legend()\n",
    "plt.xlabel('Time')\n",
    "plt.ylabel('Output')\n",
    "plt.show()\n"
   ]
  },
  {
   "cell_type": "code",
   "execution_count": null,
   "id": "3719ce51",
   "metadata": {},
   "outputs": [],
   "source": []
  },
  {
   "cell_type": "code",
   "execution_count": null,
   "id": "164e6a05",
   "metadata": {},
   "outputs": [],
   "source": []
  }
 ],
 "metadata": {
  "kernelspec": {
   "display_name": ".venv",
   "language": "python",
   "name": "python3"
  },
  "language_info": {
   "codemirror_mode": {
    "name": "ipython",
    "version": 3
   },
   "file_extension": ".py",
   "mimetype": "text/x-python",
   "name": "python",
   "nbconvert_exporter": "python",
   "pygments_lexer": "ipython3",
   "version": "3.12.3"
  }
 },
 "nbformat": 4,
 "nbformat_minor": 5
}
